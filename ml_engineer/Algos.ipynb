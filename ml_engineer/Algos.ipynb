{
 "cells": [
  {
   "cell_type": "markdown",
   "id": "75686aae",
   "metadata": {},
   "source": [
    "# Algo Solving\n",
    "The goal of this section of the interview is to demonstrate your familiarity with our software stack python and some basic concepts around computer science. This section of the interview is closed off to google etc.."
   ]
  },
  {
   "cell_type": "markdown",
   "id": "61c787d7",
   "metadata": {},
   "source": [
    "### Pair Swapping\n",
    "Given a pair of variables a,b swap the values held by the variables "
   ]
  },
  {
   "cell_type": "code",
   "execution_count": 1,
   "id": "f017fbb4",
   "metadata": {},
   "outputs": [],
   "source": [
    "a = 3\n",
    "b = 5"
   ]
  },
  {
   "cell_type": "markdown",
   "id": "7ad33fe9",
   "metadata": {},
   "source": [
    "### Find all duplicates in an array\n",
    "Find all duplicate values in an array"
   ]
  },
  {
   "cell_type": "code",
   "execution_count": null,
   "id": "23aeef60",
   "metadata": {},
   "outputs": [],
   "source": [
    "my_array = [6,1,2,4,5,6,7]"
   ]
  },
  {
   "cell_type": "markdown",
   "id": "9410111e",
   "metadata": {},
   "source": [
    "### Two Sum\n",
    "Find all pairs in a list of integers that sum to a given value"
   ]
  },
  {
   "cell_type": "code",
   "execution_count": null,
   "id": "88585673",
   "metadata": {},
   "outputs": [],
   "source": [
    "my_array = [6,1,2,4,0,5,6,7,3]\n",
    "target = 6"
   ]
  }
 ],
 "metadata": {
  "kernelspec": {
   "display_name": "Python 3",
   "language": "python",
   "name": "python3"
  },
  "language_info": {
   "codemirror_mode": {
    "name": "ipython",
    "version": 3
   },
   "file_extension": ".py",
   "mimetype": "text/x-python",
   "name": "python",
   "nbconvert_exporter": "python",
   "pygments_lexer": "ipython3",
   "version": "3.8.8"
  }
 },
 "nbformat": 4,
 "nbformat_minor": 5
}
