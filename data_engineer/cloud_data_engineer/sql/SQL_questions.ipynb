{
 "cells": [
  {
   "cell_type": "markdown",
   "metadata": {
    "tags": []
   },
   "source": [
    "# Tables:\n"
   ]
  },
  {
   "cell_type": "markdown",
   "metadata": {
    "tags": []
   },
   "source": [
    "\n",
    "## <b>Employee\n",
    "\n",
    "    \n",
    "<table>\n",
    "<tr><th>Table Structure </th><th>Example</th></tr>\n",
    "<tr><td>\n",
    "\n",
    "| Column  | DTYPE  | \n",
    "|---|---|\n",
    "| EMP_ID  | INT |\n",
    "| EMPLOYEE_NAME  | VARCHAR | \n",
    "\n",
    "</td><td>\n",
    "\n",
    "| EMP_ID  | EMPLOYEE_NAME  |\n",
    "|---|---|\n",
    "| 0974  | Brian |\n",
    "| 1235  | Bobby | \n",
    "| 3627  | Sam |\n",
    "| 5124  | Ann|\n",
    "| 4638  | Brian| \n",
    "| 5727  | Carrie | \n",
    "\n",
    "</td></tr> </table>\n",
    "\n"
   ]
  },
  {
   "cell_type": "markdown",
   "metadata": {
    "tags": []
   },
   "source": [
    "## <b> EmployeeSalary\n",
    "    \n",
    "<table>\n",
    "<tr><th>Table Structure </th><th>Example</th></tr>\n",
    "<tr><td>\n",
    "\n",
    "| Column  | DTYPE  |\n",
    "|---|---|\n",
    "| SALARY  | DECIMAL | \n",
    "| EMP_ID | INT |\n",
    "\n",
    "\n",
    "</td><td>\n",
    "\n",
    "| SALARY  | EMP_ID  |\n",
    "|---|---|\n",
    "| 20.02  | 5727 | \n",
    "| 13.54 | 4638 | \n",
    "| 17.98 | 5124 |\n",
    "| 17.98 | 1235 |\n",
    "| 35.16 | 3627 | \n",
    "| 24.31 | 0974 |   \n",
    "\n",
    "</td></tr> </table>\n"
   ]
  },
  {
   "cell_type": "markdown",
   "metadata": {
    "tags": []
   },
   "source": [
    "## <b>Manager    \n",
    "    \n",
    "<table>\n",
    "<tr><th>Table Structure </th><th>Example</th></tr>\n",
    "<tr><td>\n",
    "\n",
    "| Column  | DTYPE  |\n",
    "|---|---|\n",
    "| MANAGER_NAME  | VARCHAR | \n",
    "| EMP_ID | INT |\n",
    "\n",
    "\n",
    "</td><td>\n",
    "\n",
    "| MANAGER_NAME  | EMP_ID  |\n",
    "|---|---|\n",
    "| Carrie  | 5727 | \n",
    "| Brian | 0974 |\n",
    "| Sam | 3627 |\n",
    "\n",
    "</td></tr> </table>\n",
    "\n"
   ]
  },
  {
   "cell_type": "markdown",
   "metadata": {},
   "source": [
    "<b>Q1. Write a SQL query to find the position of the letter (‘a’) in the name of the employee with the ID of 4638 using the tables above."
   ]
  },
  {
   "cell_type": "markdown",
   "metadata": {},
   "source": []
  },
  {
   "cell_type": "markdown",
   "metadata": {},
   "source": [
    "<b>Q2. What is a general way to clone(copy) a table without information is?"
   ]
  },
  {
   "cell_type": "raw",
   "metadata": {},
   "source": []
  },
  {
   "cell_type": "markdown",
   "metadata": {},
   "source": [
    "<b>Q3. Write a SQL query to fetch the names of workers who earn the highest salary using the tables above."
   ]
  },
  {
   "cell_type": "markdown",
   "metadata": {},
   "source": []
  },
  {
   "cell_type": "markdown",
   "metadata": {},
   "source": [
    "<b>Q4. Write a SQL query to find the maximum, minimum, and average salary of the employees using the tables above."
   ]
  },
  {
   "cell_type": "markdown",
   "metadata": {},
   "source": []
  },
  {
   "cell_type": "markdown",
   "metadata": {},
   "source": [
    "<b>Q5. Write a SQL query to fetch records that are present in the <i>Employee</i> table but not in the <i>Manager</i> table."
   ]
  },
  {
   "cell_type": "code",
   "execution_count": null,
   "metadata": {},
   "outputs": [],
   "source": []
  }
 ],
 "metadata": {
  "kernelspec": {
   "display_name": "Python 3 (ipykernel)",
   "language": "python",
   "name": "python3"
  },
  "language_info": {
   "codemirror_mode": {
    "name": "ipython",
    "version": 3
   },
   "file_extension": ".py",
   "mimetype": "text/x-python",
   "name": "python",
   "nbconvert_exporter": "python",
   "pygments_lexer": "ipython3",
   "version": "3.7.4"
  }
 },
 "nbformat": 4,
 "nbformat_minor": 4
}
