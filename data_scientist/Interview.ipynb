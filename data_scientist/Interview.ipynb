{
 "cells": [
  {
   "cell_type": "markdown",
   "metadata": {},
   "source": [
    "# Algo Solving\n",
    "The goal of this section of the interview is to demonstrate your familiarity with our software stack python and some basic concepts around computer science. This section of the interview is closed off to google etc.."
   ]
  },
  {
   "cell_type": "markdown",
   "metadata": {},
   "source": [
    "### Pair Swapping\n",
    "Given a pair of variables a,b swap the values held by the variables "
   ]
  },
  {
   "cell_type": "code",
   "execution_count": null,
   "metadata": {
    "collapsed": true
   },
   "outputs": [],
   "source": []
  },
  {
   "cell_type": "markdown",
   "metadata": {},
   "source": [
    "### Find all duplicates in an array\n",
    "Find all duplicate values in an array"
   ]
  },
  {
   "cell_type": "code",
   "execution_count": null,
   "metadata": {
    "collapsed": true
   },
   "outputs": [],
   "source": []
  },
  {
   "cell_type": "markdown",
   "metadata": {},
   "source": [
    "### Two Sum\n",
    "Find all pairs in a list of integers that sum to a given value"
   ]
  },
  {
   "cell_type": "code",
   "execution_count": null,
   "metadata": {
    "collapsed": true
   },
   "outputs": [],
   "source": []
  },
  {
   "cell_type": "markdown",
   "metadata": {},
   "source": [
    "# Open Data Science Problem\n",
    "\n",
    "The goal of this section of the interview is to give you a chance to demonstrate your DS chops. The problem is completely open ended it's all about exploring the data set and trying to find ways to deliver value from it. This section of the interview is open google.\n",
    "\n",
    "Things that would be good to demo \n",
    "\n",
    "•\tLoading/ingesting data\n",
    "\n",
    "•\tCleaning data\n",
    "\n",
    "•\tVisualizing data\n",
    "\n",
    "•\tWriting readable code\n",
    "\n",
    "•\tUsing statistical methods to summarize and reveal patterns in the data\n",
    "\n",
    "•\tBuilding prediction models using machine learning\n",
    "\n",
    "•\tExplaining results in a brief style to stakeholders\n"
   ]
  },
  {
   "cell_type": "code",
   "execution_count": null,
   "metadata": {
    "collapsed": true
   },
   "outputs": [],
   "source": []
  }
 ],
 "metadata": {
  "celltoolbar": "Edit Metadata",
  "kernelspec": {
   "display_name": "Python 3",
   "language": "python",
   "name": "python3"
  },
  "language_info": {
   "codemirror_mode": {
    "name": "ipython",
    "version": 3
   },
   "file_extension": ".py",
   "mimetype": "text/x-python",
   "name": "python",
   "nbconvert_exporter": "python",
   "pygments_lexer": "ipython3",
   "version": "3.8.8"
  }
 },
 "nbformat": 4,
 "nbformat_minor": 2
}
