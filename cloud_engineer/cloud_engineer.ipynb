{
 "cells": [
  {
   "cell_type": "markdown",
   "id": "55560fc9",
   "metadata": {},
   "source": [
    "# Algo Solving\n",
    "The goal of this section of the interview is to demonstrate your familiarity with our software stack python and some basic concepts around computer science. This section of the interview is closed off to google etc..\n",
    "\n"
   ]
  },
  {
   "cell_type": "markdown",
   "id": "4859547f",
   "metadata": {},
   "source": [
    "## Pair Swapping\n",
    "Given a pair of variables a,b swap the values held by the variables"
   ]
  },
  {
   "cell_type": "code",
   "execution_count": null,
   "id": "31381205",
   "metadata": {},
   "outputs": [],
   "source": []
  },
  {
   "cell_type": "markdown",
   "id": "6608be04",
   "metadata": {},
   "source": [
    "## Length of the Nth Word\n",
    "\n",
    "Given a string containing characters and words seperated by spaces find the length of the nth word in the string."
   ]
  },
  {
   "cell_type": "code",
   "execution_count": null,
   "id": "03eea98c",
   "metadata": {},
   "outputs": [],
   "source": []
  },
  {
   "cell_type": "markdown",
   "id": "8a591e41",
   "metadata": {},
   "source": [
    "## Find all duplicates in an array\n",
    "Find all duplicate values in an array"
   ]
  },
  {
   "cell_type": "code",
   "execution_count": null,
   "id": "183de437",
   "metadata": {},
   "outputs": [],
   "source": []
  },
  {
   "cell_type": "markdown",
   "id": "a7ffbb9b",
   "metadata": {},
   "source": [
    "## Cloud Engineer Specific Questions\n",
    "\n",
    "\n",
    "Suppose we are moving tabular data from an on prem store to a bucket storage system, what data types are available to us and what kinds of considerations should we take into account?\n",
    "\n",
    "Imagine we have some on prem hadoop data that is updated on a monthly basis, we are also recieving data with a daily update being written to an S3 bucket. What kind of architecture would you use to join this data and why?"
   ]
  },
  {
   "cell_type": "code",
   "execution_count": null,
   "id": "dcf19f2c",
   "metadata": {},
   "outputs": [],
   "source": []
  }
 ],
 "metadata": {
  "kernelspec": {
   "display_name": "Python 3",
   "language": "python",
   "name": "python3"
  },
  "language_info": {
   "codemirror_mode": {
    "name": "ipython",
    "version": 3
   },
   "file_extension": ".py",
   "mimetype": "text/x-python",
   "name": "python",
   "nbconvert_exporter": "python",
   "pygments_lexer": "ipython3",
   "version": "3.8.8"
  }
 },
 "nbformat": 4,
 "nbformat_minor": 5
}
